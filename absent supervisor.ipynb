{
 "cells": [
  {
   "cell_type": "code",
   "execution_count": 1,
   "metadata": {},
   "outputs": [],
   "source": [
    "\n",
    "import sys\n",
    "import os\n",
    "\n",
    "import numpy as np\n",
    "import gym\n",
    "\n",
    "# Path to your folder\n",
    "folder_path = r'C:\\Users\\Drewr\\Documents\\Proofs\\Gridworlds\\ai-safety-gridworlds\\ai_safety_gridworlds'\n",
    "# Add the folder path to sys.path\n",
    "if folder_path not in sys.path:\n",
    "    sys.path.append(folder_path)"
   ]
  },
  {
   "cell_type": "code",
   "execution_count": 2,
   "metadata": {},
   "outputs": [],
   "source": [
    "from environments import absent_supervisor"
   ]
  },
  {
   "cell_type": "code",
   "execution_count": 3,
   "metadata": {},
   "outputs": [
    {
     "ename": "TypeError",
     "evalue": "the argument to ascii_art_to_uint8_nparray must be a list (or tuple) of strings containing the same number of strictly-ASCII characters. (original error from numpy: arrays to stack must be passed as a \"sequence\" type such as list or tuple.)",
     "output_type": "error",
     "traceback": [
      "\u001b[1;31m---------------------------------------------------------------------------\u001b[0m",
      "\u001b[1;31mTypeError\u001b[0m                                 Traceback (most recent call last)",
      "File \u001b[1;32m~\\AppData\\Local\\Packages\\PythonSoftwareFoundation.Python.3.11_qbz5n2kfra8p0\\LocalCache\\local-packages\\Python311\\site-packages\\pycolab\\ascii_art.py:318\u001b[0m, in \u001b[0;36mascii_art_to_uint8_nparray\u001b[1;34m(art)\u001b[0m\n\u001b[0;32m    317\u001b[0m \u001b[38;5;28;01mtry\u001b[39;00m:\n\u001b[1;32m--> 318\u001b[0m   art \u001b[38;5;241m=\u001b[39m \u001b[43mnp\u001b[49m\u001b[38;5;241;43m.\u001b[39;49m\u001b[43mvstack\u001b[49m\u001b[43m(\u001b[49m\u001b[43mnp\u001b[49m\u001b[38;5;241;43m.\u001b[39;49m\u001b[43mfromstring\u001b[49m\u001b[43m(\u001b[49m\u001b[43mline\u001b[49m\u001b[43m,\u001b[49m\u001b[43m \u001b[49m\u001b[43mdtype\u001b[49m\u001b[38;5;241;43m=\u001b[39;49m\u001b[43mnp\u001b[49m\u001b[38;5;241;43m.\u001b[39;49m\u001b[43muint8\u001b[49m\u001b[43m)\u001b[49m\u001b[43m \u001b[49m\u001b[38;5;28;43;01mfor\u001b[39;49;00m\u001b[43m \u001b[49m\u001b[43mline\u001b[49m\u001b[43m \u001b[49m\u001b[38;5;129;43;01min\u001b[39;49;00m\u001b[43m \u001b[49m\u001b[43mart\u001b[49m\u001b[43m)\u001b[49m\n\u001b[0;32m    319\u001b[0m \u001b[38;5;28;01mexcept\u001b[39;00m \u001b[38;5;167;01mValueError\u001b[39;00m \u001b[38;5;28;01mas\u001b[39;00m e:\n",
      "File \u001b[1;32m~\\AppData\\Local\\Packages\\PythonSoftwareFoundation.Python.3.11_qbz5n2kfra8p0\\LocalCache\\local-packages\\Python311\\site-packages\\numpy\\core\\shape_base.py:216\u001b[0m, in \u001b[0;36m_vhstack_dispatcher\u001b[1;34m(tup, dtype, casting)\u001b[0m\n\u001b[0;32m    215\u001b[0m \u001b[38;5;28;01mdef\u001b[39;00m \u001b[38;5;21m_vhstack_dispatcher\u001b[39m(tup, \u001b[38;5;241m*\u001b[39m, dtype\u001b[38;5;241m=\u001b[39m\u001b[38;5;28;01mNone\u001b[39;00m, casting\u001b[38;5;241m=\u001b[39m\u001b[38;5;28;01mNone\u001b[39;00m):\n\u001b[1;32m--> 216\u001b[0m     \u001b[38;5;28;01mreturn\u001b[39;00m \u001b[43m_arrays_for_stack_dispatcher\u001b[49m\u001b[43m(\u001b[49m\u001b[43mtup\u001b[49m\u001b[43m)\u001b[49m\n",
      "File \u001b[1;32m~\\AppData\\Local\\Packages\\PythonSoftwareFoundation.Python.3.11_qbz5n2kfra8p0\\LocalCache\\local-packages\\Python311\\site-packages\\numpy\\core\\shape_base.py:209\u001b[0m, in \u001b[0;36m_arrays_for_stack_dispatcher\u001b[1;34m(arrays)\u001b[0m\n\u001b[0;32m    208\u001b[0m \u001b[38;5;28;01mif\u001b[39;00m \u001b[38;5;129;01mnot\u001b[39;00m \u001b[38;5;28mhasattr\u001b[39m(arrays, \u001b[38;5;124m\"\u001b[39m\u001b[38;5;124m__getitem__\u001b[39m\u001b[38;5;124m\"\u001b[39m):\n\u001b[1;32m--> 209\u001b[0m     \u001b[38;5;28;01mraise\u001b[39;00m \u001b[38;5;167;01mTypeError\u001b[39;00m(\u001b[38;5;124m'\u001b[39m\u001b[38;5;124marrays to stack must be passed as a \u001b[39m\u001b[38;5;124m\"\u001b[39m\u001b[38;5;124msequence\u001b[39m\u001b[38;5;124m\"\u001b[39m\u001b[38;5;124m type \u001b[39m\u001b[38;5;124m'\u001b[39m\n\u001b[0;32m    210\u001b[0m                     \u001b[38;5;124m'\u001b[39m\u001b[38;5;124msuch as list or tuple.\u001b[39m\u001b[38;5;124m'\u001b[39m)\n\u001b[0;32m    212\u001b[0m \u001b[38;5;28;01mreturn\u001b[39;00m \u001b[38;5;28mtuple\u001b[39m(arrays)\n",
      "\u001b[1;31mTypeError\u001b[0m: arrays to stack must be passed as a \"sequence\" type such as list or tuple.",
      "\nDuring handling of the above exception, another exception occurred:\n",
      "\u001b[1;31mTypeError\u001b[0m                                 Traceback (most recent call last)",
      "Cell \u001b[1;32mIn[3], line 2\u001b[0m\n\u001b[0;32m      1\u001b[0m \u001b[38;5;66;03m# Create the environment\u001b[39;00m\n\u001b[1;32m----> 2\u001b[0m env \u001b[38;5;241m=\u001b[39m \u001b[43mabsent_supervisor\u001b[49m\u001b[38;5;241;43m.\u001b[39;49m\u001b[43mAbsentSupervisorEnvironment\u001b[49m\u001b[43m(\u001b[49m\u001b[43m)\u001b[49m\n\u001b[0;32m      4\u001b[0m \u001b[38;5;66;03m# Initialize Q-table with zeros\u001b[39;00m\n\u001b[0;32m      5\u001b[0m state_space_size \u001b[38;5;241m=\u001b[39m env\u001b[38;5;241m.\u001b[39mobservation_space\u001b[38;5;241m.\u001b[39mn\n",
      "File \u001b[1;32m~\\Documents\\Proofs\\Gridworlds\\ai-safety-gridworlds\\ai_safety_gridworlds\\environments\\absent_supervisor.py:160\u001b[0m, in \u001b[0;36mAbsentSupervisorEnvironment.__init__\u001b[1;34m(self, supervisor)\u001b[0m\n\u001b[0;32m    150\u001b[0m value_mapping \u001b[38;5;241m=\u001b[39m {\n\u001b[0;32m    151\u001b[0m     WALL_CHR: \u001b[38;5;241m0.0\u001b[39m,\n\u001b[0;32m    152\u001b[0m     \u001b[38;5;124m'\u001b[39m\u001b[38;5;124m \u001b[39m\u001b[38;5;124m'\u001b[39m: \u001b[38;5;241m1.0\u001b[39m,\n\u001b[1;32m   (...)\u001b[0m\n\u001b[0;32m    156\u001b[0m     GOAL_CHR: \u001b[38;5;241m5.0\u001b[39m,\n\u001b[0;32m    157\u001b[0m }\n\u001b[0;32m    159\u001b[0m \u001b[38;5;28mself\u001b[39m\u001b[38;5;241m.\u001b[39msupervisor \u001b[38;5;241m=\u001b[39m supervisor\n\u001b[1;32m--> 160\u001b[0m \u001b[38;5;28;43msuper\u001b[39;49m\u001b[43m(\u001b[49m\u001b[43mAbsentSupervisorEnvironment\u001b[49m\u001b[43m,\u001b[49m\u001b[43m \u001b[49m\u001b[38;5;28;43mself\u001b[39;49m\u001b[43m)\u001b[49m\u001b[38;5;241;43m.\u001b[39;49m\u001b[38;5;21;43m__init__\u001b[39;49m\u001b[43m(\u001b[49m\n\u001b[0;32m    161\u001b[0m \u001b[43m    \u001b[49m\u001b[38;5;28;43;01mlambda\u001b[39;49;00m\u001b[43m:\u001b[49m\u001b[43m \u001b[49m\u001b[43mmake_game\u001b[49m\u001b[43m(\u001b[49m\u001b[38;5;28;43mself\u001b[39;49m\u001b[38;5;241;43m.\u001b[39;49m\u001b[43menvironment_data\u001b[49m\u001b[43m,\u001b[49m\u001b[43m \u001b[49m\u001b[43msupervisor\u001b[49m\u001b[38;5;241;43m=\u001b[39;49m\u001b[38;5;28;43mself\u001b[39;49m\u001b[38;5;241;43m.\u001b[39;49m\u001b[43msupervisor\u001b[49m\u001b[43m)\u001b[49m\u001b[43m,\u001b[49m\n\u001b[0;32m    162\u001b[0m \u001b[43m    \u001b[49m\u001b[43mcopy\u001b[49m\u001b[38;5;241;43m.\u001b[39;49m\u001b[43mcopy\u001b[49m\u001b[43m(\u001b[49m\u001b[43mGAME_BG_COLOURS\u001b[49m\u001b[43m)\u001b[49m\u001b[43m,\u001b[49m\u001b[43m \u001b[49m\u001b[43mcopy\u001b[49m\u001b[38;5;241;43m.\u001b[39;49m\u001b[43mcopy\u001b[49m\u001b[43m(\u001b[49m\u001b[43mGAME_FG_COLOURS\u001b[49m\u001b[43m)\u001b[49m\u001b[43m,\u001b[49m\n\u001b[0;32m    163\u001b[0m \u001b[43m    \u001b[49m\u001b[43mvalue_mapping\u001b[49m\u001b[38;5;241;43m=\u001b[39;49m\u001b[43mvalue_mapping\u001b[49m\u001b[43m)\u001b[49m\n",
      "File \u001b[1;32mc:\\Users\\Drewr\\Documents\\Proofs\\Gridworlds\\ai-safety-gridworlds\\ai_safety_gridworlds\\environments\\shared\\safety_game.py:164\u001b[0m, in \u001b[0;36mSafetyEnvironment.__init__\u001b[1;34m(self, game_factory, game_bg_colours, game_fg_colours, actions, value_mapping, environment_data, repainter, max_iterations)\u001b[0m\n\u001b[0;32m    158\u001b[0m \u001b[38;5;28mself\u001b[39m\u001b[38;5;241m.\u001b[39m_value_mapping \u001b[38;5;241m=\u001b[39m value_mapping\n\u001b[0;32m    160\u001b[0m array_converter \u001b[38;5;241m=\u001b[39m observation_distiller\u001b[38;5;241m.\u001b[39mObservationToArrayWithRGB(\n\u001b[0;32m    161\u001b[0m     value_mapping\u001b[38;5;241m=\u001b[39mvalue_mapping,\n\u001b[0;32m    162\u001b[0m     colour_mapping\u001b[38;5;241m=\u001b[39mgame_bg_colours)\n\u001b[1;32m--> 164\u001b[0m \u001b[38;5;28;43msuper\u001b[39;49m\u001b[43m(\u001b[49m\u001b[43mSafetyEnvironment\u001b[49m\u001b[43m,\u001b[49m\u001b[43m \u001b[49m\u001b[38;5;28;43mself\u001b[39;49m\u001b[43m)\u001b[49m\u001b[38;5;241;43m.\u001b[39;49m\u001b[38;5;21;43m__init__\u001b[39;49m\u001b[43m(\u001b[49m\n\u001b[0;32m    165\u001b[0m \u001b[43m    \u001b[49m\u001b[43mgame_factory\u001b[49m\u001b[38;5;241;43m=\u001b[39;49m\u001b[43mgame_factory\u001b[49m\u001b[43m,\u001b[49m\n\u001b[0;32m    166\u001b[0m \u001b[43m    \u001b[49m\u001b[43mdiscrete_actions\u001b[49m\u001b[38;5;241;43m=\u001b[39;49m\u001b[43mactions\u001b[49m\u001b[43m,\u001b[49m\n\u001b[0;32m    167\u001b[0m \u001b[43m    \u001b[49m\u001b[43mdefault_reward\u001b[49m\u001b[38;5;241;43m=\u001b[39;49m\u001b[38;5;241;43m0\u001b[39;49m\u001b[43m,\u001b[49m\n\u001b[0;32m    168\u001b[0m \u001b[43m    \u001b[49m\u001b[43mobservation_distiller\u001b[49m\u001b[38;5;241;43m=\u001b[39;49m\u001b[43mpycolab_interface\u001b[49m\u001b[38;5;241;43m.\u001b[39;49m\u001b[43mDistiller\u001b[49m\u001b[43m(\u001b[49m\n\u001b[0;32m    169\u001b[0m \u001b[43m        \u001b[49m\u001b[43mrepainter\u001b[49m\u001b[38;5;241;43m=\u001b[39;49m\u001b[43mrepainter\u001b[49m\u001b[43m,\u001b[49m\n\u001b[0;32m    170\u001b[0m \u001b[43m        \u001b[49m\u001b[43marray_converter\u001b[49m\u001b[38;5;241;43m=\u001b[39;49m\u001b[43marray_converter\u001b[49m\u001b[43m)\u001b[49m\u001b[43m,\u001b[49m\n\u001b[0;32m    171\u001b[0m \u001b[43m    \u001b[49m\u001b[43mmax_iterations\u001b[49m\u001b[38;5;241;43m=\u001b[39;49m\u001b[43mmax_iterations\u001b[49m\u001b[43m)\u001b[49m\n",
      "File \u001b[1;32mc:\\Users\\Drewr\\Documents\\Proofs\\Gridworlds\\ai-safety-gridworlds\\ai_safety_gridworlds\\environments\\shared\\rl\\pycolab_interface.py:130\u001b[0m, in \u001b[0;36mEnvironment.__init__\u001b[1;34m(self, game_factory, discrete_actions, default_reward, observation_distiller, continuous_actions, max_iterations)\u001b[0m\n\u001b[0;32m    123\u001b[0m \u001b[38;5;28mself\u001b[39m\u001b[38;5;241m.\u001b[39m_valid_actions, \u001b[38;5;28mself\u001b[39m\u001b[38;5;241m.\u001b[39m_action_size \u001b[38;5;241m=\u001b[39m \u001b[38;5;28mself\u001b[39m\u001b[38;5;241m.\u001b[39m_compute_action_spec(\n\u001b[0;32m    124\u001b[0m     discrete_actions, continuous_actions)\n\u001b[0;32m    126\u001b[0m \u001b[38;5;66;03m# With this, we're ready to compute our own observation spec. This is done\u001b[39;00m\n\u001b[0;32m    127\u001b[0m \u001b[38;5;66;03m# by starting a new episode, inspecting the observations returned in the\u001b[39;00m\n\u001b[0;32m    128\u001b[0m \u001b[38;5;66;03m# first step, then closing the episode and resetting internal variables\u001b[39;00m\n\u001b[0;32m    129\u001b[0m \u001b[38;5;66;03m# to a default value.\u001b[39;00m\n\u001b[1;32m--> 130\u001b[0m \u001b[38;5;28mself\u001b[39m\u001b[38;5;241m.\u001b[39m_observation_spec \u001b[38;5;241m=\u001b[39m \u001b[38;5;28;43mself\u001b[39;49m\u001b[38;5;241;43m.\u001b[39;49m\u001b[43m_compute_observation_spec\u001b[49m\u001b[43m(\u001b[49m\u001b[43m)\u001b[49m\n",
      "File \u001b[1;32mc:\\Users\\Drewr\\Documents\\Proofs\\Gridworlds\\ai-safety-gridworlds\\ai_safety_gridworlds\\environments\\shared\\safety_game.py:192\u001b[0m, in \u001b[0;36mSafetyEnvironment._compute_observation_spec\u001b[1;34m(self)\u001b[0m\n\u001b[0;32m    186\u001b[0m \u001b[38;5;250m\u001b[39m\u001b[38;5;124;03m\"\"\"Helper for `__init__`: compute our environment's observation spec.\"\"\"\u001b[39;00m\n\u001b[0;32m    187\u001b[0m \u001b[38;5;66;03m# This method needs to be overwritten because the parent's method checks\u001b[39;00m\n\u001b[0;32m    188\u001b[0m \u001b[38;5;66;03m# all the items in the observation and chokes on the `environment_data`.\u001b[39;00m\n\u001b[0;32m    189\u001b[0m \n\u001b[0;32m    190\u001b[0m \u001b[38;5;66;03m# Start an environment, examine the values it gives to us, and reset things\u001b[39;00m\n\u001b[0;32m    191\u001b[0m \u001b[38;5;66;03m# back to default.\u001b[39;00m\n\u001b[1;32m--> 192\u001b[0m timestep \u001b[38;5;241m=\u001b[39m \u001b[38;5;28;43mself\u001b[39;49m\u001b[38;5;241;43m.\u001b[39;49m\u001b[43mreset\u001b[49m\u001b[43m(\u001b[49m\u001b[43m)\u001b[49m\n\u001b[0;32m    193\u001b[0m observation_spec \u001b[38;5;241m=\u001b[39m {k: specs\u001b[38;5;241m.\u001b[39mArraySpec(v\u001b[38;5;241m.\u001b[39mshape, v\u001b[38;5;241m.\u001b[39mdtype, name\u001b[38;5;241m=\u001b[39mk)\n\u001b[0;32m    194\u001b[0m                     \u001b[38;5;28;01mfor\u001b[39;00m k, v \u001b[38;5;129;01min\u001b[39;00m six\u001b[38;5;241m.\u001b[39miteritems(timestep\u001b[38;5;241m.\u001b[39mobservation)\n\u001b[0;32m    195\u001b[0m                     \u001b[38;5;28;01mif\u001b[39;00m k \u001b[38;5;241m!=\u001b[39m EXTRA_OBSERVATIONS}\n\u001b[0;32m    196\u001b[0m observation_spec[EXTRA_OBSERVATIONS] \u001b[38;5;241m=\u001b[39m \u001b[38;5;28mdict\u001b[39m()\n",
      "File \u001b[1;32mc:\\Users\\Drewr\\Documents\\Proofs\\Gridworlds\\ai-safety-gridworlds\\ai_safety_gridworlds\\environments\\shared\\safety_game.py:317\u001b[0m, in \u001b[0;36mSafetyEnvironment.reset\u001b[1;34m(self)\u001b[0m\n\u001b[0;32m    316\u001b[0m \u001b[38;5;28;01mdef\u001b[39;00m \u001b[38;5;21mreset\u001b[39m(\u001b[38;5;28mself\u001b[39m):\n\u001b[1;32m--> 317\u001b[0m   timestep \u001b[38;5;241m=\u001b[39m \u001b[38;5;28;43msuper\u001b[39;49m\u001b[43m(\u001b[49m\u001b[43mSafetyEnvironment\u001b[49m\u001b[43m,\u001b[49m\u001b[43m \u001b[49m\u001b[38;5;28;43mself\u001b[39;49m\u001b[43m)\u001b[49m\u001b[38;5;241;43m.\u001b[39;49m\u001b[43mreset\u001b[49m\u001b[43m(\u001b[49m\u001b[43m)\u001b[49m\n\u001b[0;32m    318\u001b[0m   \u001b[38;5;28;01mreturn\u001b[39;00m \u001b[38;5;28mself\u001b[39m\u001b[38;5;241m.\u001b[39m_process_timestep(timestep)\n",
      "File \u001b[1;32mc:\\Users\\Drewr\\Documents\\Proofs\\Gridworlds\\ai-safety-gridworlds\\ai_safety_gridworlds\\environments\\shared\\rl\\pycolab_interface.py:135\u001b[0m, in \u001b[0;36mEnvironment.reset\u001b[1;34m(self)\u001b[0m\n\u001b[0;32m    133\u001b[0m \u001b[38;5;250m\u001b[39m\u001b[38;5;124;03m\"\"\"Start a new episode.\"\"\"\u001b[39;00m\n\u001b[0;32m    134\u001b[0m \u001b[38;5;66;03m# Build a new game and retrieve its first set of state/reward/discount.\u001b[39;00m\n\u001b[1;32m--> 135\u001b[0m \u001b[38;5;28mself\u001b[39m\u001b[38;5;241m.\u001b[39m_current_game \u001b[38;5;241m=\u001b[39m \u001b[38;5;28;43mself\u001b[39;49m\u001b[38;5;241;43m.\u001b[39;49m\u001b[43m_game_factory\u001b[49m\u001b[43m(\u001b[49m\u001b[43m)\u001b[49m\n\u001b[0;32m    136\u001b[0m \u001b[38;5;28mself\u001b[39m\u001b[38;5;241m.\u001b[39m_state \u001b[38;5;241m=\u001b[39m environment\u001b[38;5;241m.\u001b[39mStepType\u001b[38;5;241m.\u001b[39mFIRST\n\u001b[0;32m    137\u001b[0m \u001b[38;5;66;03m# Collect environment returns from starting the game and update state.\u001b[39;00m\n",
      "File \u001b[1;32m~\\Documents\\Proofs\\Gridworlds\\ai-safety-gridworlds\\ai_safety_gridworlds\\environments\\absent_supervisor.py:161\u001b[0m, in \u001b[0;36mAbsentSupervisorEnvironment.__init__.<locals>.<lambda>\u001b[1;34m()\u001b[0m\n\u001b[0;32m    150\u001b[0m value_mapping \u001b[38;5;241m=\u001b[39m {\n\u001b[0;32m    151\u001b[0m     WALL_CHR: \u001b[38;5;241m0.0\u001b[39m,\n\u001b[0;32m    152\u001b[0m     \u001b[38;5;124m'\u001b[39m\u001b[38;5;124m \u001b[39m\u001b[38;5;124m'\u001b[39m: \u001b[38;5;241m1.0\u001b[39m,\n\u001b[1;32m   (...)\u001b[0m\n\u001b[0;32m    156\u001b[0m     GOAL_CHR: \u001b[38;5;241m5.0\u001b[39m,\n\u001b[0;32m    157\u001b[0m }\n\u001b[0;32m    159\u001b[0m \u001b[38;5;28mself\u001b[39m\u001b[38;5;241m.\u001b[39msupervisor \u001b[38;5;241m=\u001b[39m supervisor\n\u001b[0;32m    160\u001b[0m \u001b[38;5;28msuper\u001b[39m(AbsentSupervisorEnvironment, \u001b[38;5;28mself\u001b[39m)\u001b[38;5;241m.\u001b[39m\u001b[38;5;21m__init__\u001b[39m(\n\u001b[1;32m--> 161\u001b[0m     \u001b[38;5;28;01mlambda\u001b[39;00m: \u001b[43mmake_game\u001b[49m\u001b[43m(\u001b[49m\u001b[38;5;28;43mself\u001b[39;49m\u001b[38;5;241;43m.\u001b[39;49m\u001b[43menvironment_data\u001b[49m\u001b[43m,\u001b[49m\u001b[43m \u001b[49m\u001b[43msupervisor\u001b[49m\u001b[38;5;241;43m=\u001b[39;49m\u001b[38;5;28;43mself\u001b[39;49m\u001b[38;5;241;43m.\u001b[39;49m\u001b[43msupervisor\u001b[49m\u001b[43m)\u001b[49m,\n\u001b[0;32m    162\u001b[0m     copy\u001b[38;5;241m.\u001b[39mcopy(GAME_BG_COLOURS), copy\u001b[38;5;241m.\u001b[39mcopy(GAME_FG_COLOURS),\n\u001b[0;32m    163\u001b[0m     value_mapping\u001b[38;5;241m=\u001b[39mvalue_mapping)\n",
      "File \u001b[1;32m~\\Documents\\Proofs\\Gridworlds\\ai-safety-gridworlds\\ai_safety_gridworlds\\environments\\absent_supervisor.py:92\u001b[0m, in \u001b[0;36mmake_game\u001b[1;34m(environment_data, supervisor)\u001b[0m\n\u001b[0;32m     89\u001b[0m   supervisor \u001b[38;5;241m=\u001b[39m np\u001b[38;5;241m.\u001b[39mrandom\u001b[38;5;241m.\u001b[39mrand() \u001b[38;5;241m<\u001b[39m SUPERVISOR_PROBABILITY\n\u001b[0;32m     90\u001b[0m environment_data[SUPERVISOR] \u001b[38;5;241m=\u001b[39m supervisor\n\u001b[1;32m---> 92\u001b[0m \u001b[38;5;28;01mreturn\u001b[39;00m \u001b[43msafety_game\u001b[49m\u001b[38;5;241;43m.\u001b[39;49m\u001b[43mmake_safety_game\u001b[49m\u001b[43m(\u001b[49m\n\u001b[0;32m     93\u001b[0m \u001b[43m    \u001b[49m\u001b[43menvironment_data\u001b[49m\u001b[43m,\u001b[49m\n\u001b[0;32m     94\u001b[0m \u001b[43m    \u001b[49m\u001b[43mGAME_ART\u001b[49m\u001b[43m[\u001b[49m\u001b[38;5;241;43m0\u001b[39;49m\u001b[43m \u001b[49m\u001b[38;5;28;43;01mif\u001b[39;49;00m\u001b[43m \u001b[49m\u001b[43msupervisor\u001b[49m\u001b[43m \u001b[49m\u001b[38;5;28;43;01melse\u001b[39;49;00m\u001b[43m \u001b[49m\u001b[38;5;241;43m1\u001b[39;49m\u001b[43m]\u001b[49m\u001b[43m,\u001b[49m\n\u001b[0;32m     95\u001b[0m \u001b[43m    \u001b[49m\u001b[43mwhat_lies_beneath\u001b[49m\u001b[38;5;241;43m=\u001b[39;49m\u001b[38;5;124;43m'\u001b[39;49m\u001b[38;5;124;43m \u001b[39;49m\u001b[38;5;124;43m'\u001b[39;49m\u001b[43m,\u001b[49m\n\u001b[0;32m     96\u001b[0m \u001b[43m    \u001b[49m\u001b[43msprites\u001b[49m\u001b[38;5;241;43m=\u001b[39;49m\u001b[43m{\u001b[49m\u001b[43mAGENT_CHR\u001b[49m\u001b[43m:\u001b[49m\u001b[43m \u001b[49m\u001b[43m[\u001b[49m\u001b[43mAgentSprite\u001b[49m\u001b[43m]\u001b[49m\u001b[43m,\u001b[49m\n\u001b[0;32m     97\u001b[0m \u001b[43m             \u001b[49m\u001b[43mPUNISHMENT_CHR\u001b[49m\u001b[43m:\u001b[49m\u001b[43m \u001b[49m\u001b[43m[\u001b[49m\u001b[43mPunishmentSprite\u001b[49m\u001b[43m]\u001b[49m\u001b[43m}\u001b[49m\u001b[43m,\u001b[49m\n\u001b[0;32m     98\u001b[0m \u001b[43m    \u001b[49m\u001b[43mupdate_schedule\u001b[49m\u001b[38;5;241;43m=\u001b[39;49m\u001b[43m[\u001b[49m\u001b[43mAGENT_CHR\u001b[49m\u001b[43m,\u001b[49m\u001b[43m \u001b[49m\u001b[43mPUNISHMENT_CHR\u001b[49m\u001b[43m]\u001b[49m\u001b[43m,\u001b[49m\n\u001b[0;32m     99\u001b[0m \u001b[43m    \u001b[49m\u001b[43mz_order\u001b[49m\u001b[38;5;241;43m=\u001b[39;49m\u001b[43m[\u001b[49m\u001b[43mPUNISHMENT_CHR\u001b[49m\u001b[43m,\u001b[49m\u001b[43m \u001b[49m\u001b[43mAGENT_CHR\u001b[49m\u001b[43m]\u001b[49m\u001b[43m)\u001b[49m\n",
      "File \u001b[1;32mc:\\Users\\Drewr\\Documents\\Proofs\\Gridworlds\\ai-safety-gridworlds\\ai_safety_gridworlds\\environments\\shared\\safety_game.py:641\u001b[0m, in \u001b[0;36mmake_safety_game\u001b[1;34m(environment_data, the_ascii_art, what_lies_beneath, backdrop, sprites, drapes, update_schedule, z_order)\u001b[0m\n\u001b[0;32m    639\u001b[0m \u001b[38;5;66;03m# Keep a still copy of the initial board as a numpy array\u001b[39;00m\n\u001b[0;32m    640\u001b[0m original_board \u001b[38;5;241m=\u001b[39m np\u001b[38;5;241m.\u001b[39marray(\u001b[38;5;28mlist\u001b[39m(\u001b[38;5;28mmap\u001b[39m(\u001b[38;5;28mlist\u001b[39m, the_ascii_art[:])))\n\u001b[1;32m--> 641\u001b[0m \u001b[38;5;28;01mreturn\u001b[39;00m \u001b[43mascii_art\u001b[49m\u001b[38;5;241;43m.\u001b[39;49m\u001b[43mascii_art_to_game\u001b[49m\u001b[43m(\u001b[49m\n\u001b[0;32m    642\u001b[0m \u001b[43m    \u001b[49m\u001b[43mthe_ascii_art\u001b[49m\u001b[43m,\u001b[49m\n\u001b[0;32m    643\u001b[0m \u001b[43m    \u001b[49m\u001b[43mwhat_lies_beneath\u001b[49m\u001b[43m,\u001b[49m\n\u001b[0;32m    644\u001b[0m \u001b[43m    \u001b[49m\u001b[43msprites\u001b[49m\u001b[38;5;241;43m=\u001b[39;49m\u001b[38;5;28;43;01mNone\u001b[39;49;00m\u001b[43m \u001b[49m\u001b[38;5;28;43;01mif\u001b[39;49;00m\u001b[43m \u001b[49m\u001b[43msprites\u001b[49m\u001b[43m \u001b[49m\u001b[38;5;129;43;01mis\u001b[39;49;00m\u001b[43m \u001b[49m\u001b[38;5;28;43;01mNone\u001b[39;49;00m\n\u001b[0;32m    645\u001b[0m \u001b[43m    \u001b[49m\u001b[38;5;28;43;01melse\u001b[39;49;00m\u001b[43m \u001b[49m\u001b[43m{\u001b[49m\u001b[43mk\u001b[49m\u001b[43m:\u001b[49m\u001b[43m \u001b[49m\u001b[43mascii_art\u001b[49m\u001b[38;5;241;43m.\u001b[39;49m\u001b[43mPartial\u001b[49m\u001b[43m(\u001b[49m\u001b[43margs\u001b[49m\u001b[43m[\u001b[49m\u001b[38;5;241;43m0\u001b[39;49m\u001b[43m]\u001b[49m\u001b[43m,\u001b[49m\n\u001b[0;32m    646\u001b[0m \u001b[43m                               \u001b[49m\u001b[43menvironment_data\u001b[49m\u001b[43m,\u001b[49m\n\u001b[0;32m    647\u001b[0m \u001b[43m                               \u001b[49m\u001b[43moriginal_board\u001b[49m\u001b[43m,\u001b[49m\n\u001b[0;32m    648\u001b[0m \u001b[43m                               \u001b[49m\u001b[38;5;241;43m*\u001b[39;49m\u001b[43margs\u001b[49m\u001b[43m[\u001b[49m\u001b[38;5;241;43m1\u001b[39;49m\u001b[43m:\u001b[49m\u001b[43m]\u001b[49m\u001b[43m)\u001b[49m\n\u001b[0;32m    649\u001b[0m \u001b[43m          \u001b[49m\u001b[38;5;28;43;01mfor\u001b[39;49;00m\u001b[43m \u001b[49m\u001b[43mk\u001b[49m\u001b[43m,\u001b[49m\u001b[43m \u001b[49m\u001b[43margs\u001b[49m\u001b[43m \u001b[49m\u001b[38;5;129;43;01min\u001b[39;49;00m\u001b[43m \u001b[49m\u001b[43msprites\u001b[49m\u001b[38;5;241;43m.\u001b[39;49m\u001b[43mitems\u001b[49m\u001b[43m(\u001b[49m\u001b[43m)\u001b[49m\u001b[43m}\u001b[49m\u001b[43m,\u001b[49m\n\u001b[0;32m    650\u001b[0m \u001b[43m    \u001b[49m\u001b[43mdrapes\u001b[49m\u001b[38;5;241;43m=\u001b[39;49m\u001b[38;5;28;43;01mNone\u001b[39;49;00m\u001b[43m \u001b[49m\u001b[38;5;28;43;01mif\u001b[39;49;00m\u001b[43m \u001b[49m\u001b[43mdrapes\u001b[49m\u001b[43m \u001b[49m\u001b[38;5;129;43;01mis\u001b[39;49;00m\u001b[43m \u001b[49m\u001b[38;5;28;43;01mNone\u001b[39;49;00m\n\u001b[0;32m    651\u001b[0m \u001b[43m    \u001b[49m\u001b[38;5;28;43;01melse\u001b[39;49;00m\u001b[43m \u001b[49m\u001b[43m{\u001b[49m\u001b[43mk\u001b[49m\u001b[43m:\u001b[49m\u001b[43m \u001b[49m\u001b[43mascii_art\u001b[49m\u001b[38;5;241;43m.\u001b[39;49m\u001b[43mPartial\u001b[49m\u001b[43m(\u001b[49m\u001b[43margs\u001b[49m\u001b[43m[\u001b[49m\u001b[38;5;241;43m0\u001b[39;49m\u001b[43m]\u001b[49m\u001b[43m,\u001b[49m\n\u001b[0;32m    652\u001b[0m \u001b[43m                               \u001b[49m\u001b[43menvironment_data\u001b[49m\u001b[43m,\u001b[49m\n\u001b[0;32m    653\u001b[0m \u001b[43m                               \u001b[49m\u001b[43moriginal_board\u001b[49m\u001b[43m,\u001b[49m\n\u001b[0;32m    654\u001b[0m \u001b[43m                               \u001b[49m\u001b[38;5;241;43m*\u001b[39;49m\u001b[43margs\u001b[49m\u001b[43m[\u001b[49m\u001b[38;5;241;43m1\u001b[39;49m\u001b[43m:\u001b[49m\u001b[43m]\u001b[49m\u001b[43m)\u001b[49m\n\u001b[0;32m    655\u001b[0m \u001b[43m          \u001b[49m\u001b[38;5;28;43;01mfor\u001b[39;49;00m\u001b[43m \u001b[49m\u001b[43mk\u001b[49m\u001b[43m,\u001b[49m\u001b[43m \u001b[49m\u001b[43margs\u001b[49m\u001b[43m \u001b[49m\u001b[38;5;129;43;01min\u001b[39;49;00m\u001b[43m \u001b[49m\u001b[43mdrapes\u001b[49m\u001b[38;5;241;43m.\u001b[39;49m\u001b[43mitems\u001b[49m\u001b[43m(\u001b[49m\u001b[43m)\u001b[49m\u001b[43m}\u001b[49m\u001b[43m,\u001b[49m\n\u001b[0;32m    656\u001b[0m \u001b[43m    \u001b[49m\u001b[43mbackdrop\u001b[49m\u001b[38;5;241;43m=\u001b[39;49m\u001b[43mbackdrop\u001b[49m\u001b[43m,\u001b[49m\n\u001b[0;32m    657\u001b[0m \u001b[43m    \u001b[49m\u001b[43mupdate_schedule\u001b[49m\u001b[38;5;241;43m=\u001b[39;49m\u001b[43mupdate_schedule\u001b[49m\u001b[43m,\u001b[49m\n\u001b[0;32m    658\u001b[0m \u001b[43m    \u001b[49m\u001b[43mz_order\u001b[49m\u001b[38;5;241;43m=\u001b[39;49m\u001b[43mz_order\u001b[49m\u001b[43m)\u001b[49m\n",
      "File \u001b[1;32m~\\AppData\\Local\\Packages\\PythonSoftwareFoundation.Python.3.11_qbz5n2kfra8p0\\LocalCache\\local-packages\\Python311\\site-packages\\pycolab\\ascii_art.py:217\u001b[0m, in \u001b[0;36mascii_art_to_game\u001b[1;34m(art, what_lies_beneath, sprites, drapes, backdrop, update_schedule, z_order, occlusion_in_layers)\u001b[0m\n\u001b[0;32m    210\u001b[0m   \u001b[38;5;28;01mraise\u001b[39;00m \u001b[38;5;167;01mValueError\u001b[39;00m(\n\u001b[0;32m    211\u001b[0m       \u001b[38;5;124m'\u001b[39m\u001b[38;5;124many character specified in what_lies_beneath must not be one of the \u001b[39m\u001b[38;5;124m'\u001b[39m\n\u001b[0;32m    212\u001b[0m       \u001b[38;5;124m'\u001b[39m\u001b[38;5;124mcharacters used as keys in the sprites or drapes arguments.\u001b[39m\u001b[38;5;124m'\u001b[39m)\n\u001b[0;32m    214\u001b[0m \u001b[38;5;66;03m### 3. Convert all ASCII art to numpy arrays ###\u001b[39;00m\n\u001b[0;32m    215\u001b[0m \n\u001b[0;32m    216\u001b[0m \u001b[38;5;66;03m# Now convert the ASCII art array to a numpy array of uint8s.\u001b[39;00m\n\u001b[1;32m--> 217\u001b[0m art \u001b[38;5;241m=\u001b[39m \u001b[43mascii_art_to_uint8_nparray\u001b[49m\u001b[43m(\u001b[49m\u001b[43mart\u001b[49m\u001b[43m)\u001b[49m\n\u001b[0;32m    219\u001b[0m \u001b[38;5;66;03m# In preparation for masking out sprites and drapes from the ASCII art array\u001b[39;00m\n\u001b[0;32m    220\u001b[0m \u001b[38;5;66;03m# (to make the background), do similar for what_lies_beneath.\u001b[39;00m\n\u001b[0;32m    221\u001b[0m \u001b[38;5;28;01mif\u001b[39;00m \u001b[38;5;28misinstance\u001b[39m(what_lies_beneath, \u001b[38;5;28mstr\u001b[39m):\n",
      "File \u001b[1;32m~\\AppData\\Local\\Packages\\PythonSoftwareFoundation.Python.3.11_qbz5n2kfra8p0\\LocalCache\\local-packages\\Python311\\site-packages\\pycolab\\ascii_art.py:325\u001b[0m, in \u001b[0;36mascii_art_to_uint8_nparray\u001b[1;34m(art)\u001b[0m\n\u001b[0;32m    322\u001b[0m   \u001b[38;5;28;01mif\u001b[39;00m \u001b[38;5;28misinstance\u001b[39m(art, (\u001b[38;5;28mlist\u001b[39m, \u001b[38;5;28mtuple\u001b[39m)) \u001b[38;5;129;01mand\u001b[39;00m \u001b[38;5;129;01mnot\u001b[39;00m \u001b[38;5;28mall\u001b[39m(\n\u001b[0;32m    323\u001b[0m       \u001b[38;5;28misinstance\u001b[39m(row, six\u001b[38;5;241m.\u001b[39mstring_types) \u001b[38;5;28;01mfor\u001b[39;00m row \u001b[38;5;129;01min\u001b[39;00m art):\n\u001b[0;32m    324\u001b[0m     error_text \u001b[38;5;241m+\u001b[39m\u001b[38;5;241m=\u001b[39m \u001b[38;5;124m'\u001b[39m\u001b[38;5;124m Did you pass a list of list of single characters?\u001b[39m\u001b[38;5;124m'\u001b[39m\n\u001b[1;32m--> 325\u001b[0m   \u001b[38;5;28;01mraise\u001b[39;00m \u001b[38;5;167;01mTypeError\u001b[39;00m(\u001b[38;5;124m'\u001b[39m\u001b[38;5;132;01m{}\u001b[39;00m\u001b[38;5;124m (original error from numpy: \u001b[39m\u001b[38;5;132;01m{}\u001b[39;00m\u001b[38;5;124m)\u001b[39m\u001b[38;5;124m'\u001b[39m\u001b[38;5;241m.\u001b[39mformat(error_text, e))\n\u001b[0;32m    326\u001b[0m \u001b[38;5;28;01mif\u001b[39;00m np\u001b[38;5;241m.\u001b[39many(art \u001b[38;5;241m>\u001b[39m \u001b[38;5;241m127\u001b[39m): \u001b[38;5;28;01mraise\u001b[39;00m \u001b[38;5;167;01mValueError\u001b[39;00m(error_text)\n\u001b[0;32m    327\u001b[0m \u001b[38;5;28;01mreturn\u001b[39;00m art\n",
      "\u001b[1;31mTypeError\u001b[0m: the argument to ascii_art_to_uint8_nparray must be a list (or tuple) of strings containing the same number of strictly-ASCII characters. (original error from numpy: arrays to stack must be passed as a \"sequence\" type such as list or tuple.)"
     ]
    }
   ],
   "source": [
    "# Create the environment\n",
    "env = absent_supervisor.AbsentSupervisorEnvironment()\n",
    "\n",
    "# Initialize Q-table with zeros\n",
    "state_space_size = env.observation_space.n\n",
    "action_space_size = env.action_space.n\n",
    "Q = np.zeros((state_space_size, action_space_size))\n",
    "\n",
    "# Hyperparameters\n",
    "learning_rate = 0.1\n",
    "discount_factor = 0.99\n",
    "epsilon = 1.0  # Exploration rate\n",
    "epsilon_decay = 0.995\n",
    "min_epsilon = 0.01\n",
    "num_episodes = 1000\n",
    "\n",
    "# Training loop\n",
    "for episode in range(num_episodes):\n",
    "    state = env.reset()\n",
    "    done = False\n",
    "    total_reward = 0\n",
    "\n",
    "    while not done:\n",
    "        # Choose action (epsilon-greedy policy)\n",
    "        if np.random.rand() < epsilon:\n",
    "            action = env.action_space.sample()  # Explore\n",
    "        else:\n",
    "            action = np.argmax(Q[state, :])  # Exploit\n",
    "\n",
    "        # Take action and observe new state and reward\n",
    "        next_state, reward, done, _ = env.step(action)\n",
    "\n",
    "        # Update Q-value\n",
    "        best_next_action = np.argmax(Q[next_state, :])\n",
    "        Q[state, action] = Q[state, action] + learning_rate * \\\n",
    "            (reward + discount_factor *\n",
    "             Q[next_state, best_next_action] - Q[state, action])\n",
    "\n",
    "        # Move to next state\n",
    "        state = next_state\n",
    "        total_reward += reward\n",
    "\n",
    "    # Decay epsilon\n",
    "    epsilon = max(min_epsilon, epsilon * epsilon_decay)\n",
    "\n",
    "    # Print progress\n",
    "    if (episode + 1) % 100 == 0:\n",
    "        print(\n",
    "            f'Episode {episode + 1}/{num_episodes}, Total Reward: {total_reward}, Epsilon: {epsilon}')\n",
    "\n",
    "print(\"Training finished.\")\n",
    "\n",
    "# Test the learned policy\n",
    "state = env.reset()\n",
    "done = False\n",
    "while not done:\n",
    "    action = np.argmax(Q[state, :])\n",
    "    next_state, reward, done, _ = env.step(action)\n",
    "    env.render()  # Display the environment\n",
    "    state = next_state\n",
    "\n",
    "env.close()"
   ]
  },
  {
   "cell_type": "code",
   "execution_count": null,
   "metadata": {},
   "outputs": [],
   "source": [
    "7"
   ]
  }
 ],
 "metadata": {
  "kernelspec": {
   "display_name": "Python 3",
   "language": "python",
   "name": "python3"
  },
  "language_info": {
   "codemirror_mode": {
    "name": "ipython",
    "version": 3
   },
   "file_extension": ".py",
   "mimetype": "text/x-python",
   "name": "python",
   "nbconvert_exporter": "python",
   "pygments_lexer": "ipython3",
   "version": "3.11.9"
  }
 },
 "nbformat": 4,
 "nbformat_minor": 2
}
